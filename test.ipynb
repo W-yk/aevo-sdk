{
 "cells": [
  {
   "cell_type": "code",
   "execution_count": 14,
   "metadata": {},
   "outputs": [],
   "source": [
    "\n",
    "import os\n",
    "import json\n",
    "import time\n",
    "import base64\n",
    "import requests\n",
    "\n",
    "import pandas as pd\n",
    "pd.set_option('display.max_rows', None)\n",
    "\n",
    "import warnings\n",
    "warnings.filterwarnings('ignore')\n",
    "\n",
    "import numpy as np\n",
    "from datetime import datetime\n",
    "import time\n",
    "\n",
    "def tr(data):\n",
    "    data['previous_close'] = data['close'].shift(1)\n",
    "    data['high-low'] = abs(data['high'] - data['low'])\n",
    "    data['high-pc'] = abs(data['high'] - data['previous_close'])\n",
    "    data['low-pc'] = abs(data['low'] - data['previous_close'])\n",
    "\n",
    "    tr = data[['high-low', 'high-pc', 'low-pc']].max(axis=1)\n",
    "\n",
    "    return tr\n",
    "\n",
    "def atr(data, period):\n",
    "    data['tr'] = tr(data)\n",
    "    atr = data['tr'].rolling(period).mean()\n",
    "\n",
    "    return atr\n",
    "\n",
    "def supertrend(df, period=10, atr_multiplier=3):\n",
    "    hl2 = (df['high'] + df['low']) / 2\n",
    "    df['atr'] = atr(df, period)\n",
    "    df['upperband'] = hl2 + (atr_multiplier * df['atr'])\n",
    "    df['lowerband'] = hl2 - (atr_multiplier * df['atr'])\n",
    "    df['in_uptrend'] = True\n",
    "\n",
    "    for current in range(1, len(df.index)):\n",
    "        previous = current - 1\n",
    "        \n",
    "        if df['close'][current] > df['upperband'][previous]:\n",
    "            df['in_uptrend'][current] = True\n",
    "        elif df['close'][current] < df['lowerband'][previous]:\n",
    "            df['in_uptrend'][current] = False\n",
    "        else:\n",
    "            df['in_uptrend'][current] = df['in_uptrend'][previous]\n",
    "\n",
    "            if df['in_uptrend'][current] and df['lowerband'][current] < df['lowerband'][previous]:\n",
    "                df['lowerband'][current] = df['lowerband'][previous]\n",
    "\n",
    "            if not df['in_uptrend'][current] and df['upperband'][current] > df['upperband'][previous]:\n",
    "                df['upperband'][current] = df['upperband'][previous]\n",
    "        \n",
    "    return df\n",
    "\n",
    "\n",
    "def get_data(symbol, bar):\n",
    "    \n",
    "    d = requests.get(f'https://www.okx.com/api/v5/market/index-candles?instId={symbol}&bar={bar}').json()\n",
    "    data = pd.DataFrame(d['data'],columns=['timestamp','open','high','low','close','confirm'])\n",
    "    data['timestamp'] = pd.to_datetime(data['timestamp'],utc=True, unit='ms')\n",
    "    for i in ['open','high','low','close']:\n",
    "        data[i] = data[i].astype(float)\n",
    "    data = data.set_index('timestamp').sort_index()\n",
    "    return data\n",
    "\n",
    "def get_current_trend(symbol, bar):\n",
    "    data = get_data(symbol, bar)\n",
    "    data = supertrend(data)\n",
    "    \n",
    "    return bool(data.iloc[len(data)-1]['in_uptrend'])"
   ]
  },
  {
   "cell_type": "code",
   "execution_count": 2,
   "metadata": {},
   "outputs": [],
   "source": [
    "\n",
    "from aevo import AevoClient\n",
    "from clientConfig import CLIENT_CONFIG\n",
    "\n",
    "from datetime import datetime\n",
    "from loguru import logger as log\n",
    "\n",
    "\n",
    "\n",
    "# Add Credentials\n",
    "aevo = AevoClient(**CLIENT_CONFIG)\n"
   ]
  },
  {
   "cell_type": "code",
   "execution_count": 39,
   "metadata": {},
   "outputs": [
    {
     "data": {
      "text/plain": [
       "'2982.45'"
      ]
     },
     "execution_count": 39,
     "metadata": {},
     "output_type": "execute_result"
    }
   ],
   "source": [
    "\n",
    "def get_price_for_quantity(symbol,direction, quantity):\n",
    "    orderbook = aevo.get_orderbook(symbol)[direction]\n",
    "    \n",
    "    for p,a in orderbook:\n",
    "        quantity -= float(a)\n",
    "        if quantity <= 0:\n",
    "            return p\n",
    "    return orderbook[20][0]\n",
    "\n",
    "get_price_for_quantity('ETH-PERP','asks', 5)"
   ]
  },
  {
   "cell_type": "code",
   "execution_count": 40,
   "metadata": {},
   "outputs": [
    {
     "data": {
      "text/plain": [
       "'2984.19'"
      ]
     },
     "execution_count": 40,
     "metadata": {},
     "output_type": "execute_result"
    }
   ],
   "source": [
    "get_price_for_quantity('ETH-PERP','asks', 0)"
   ]
  },
  {
   "cell_type": "code",
   "execution_count": 46,
   "metadata": {},
   "outputs": [
    {
     "name": "stdout",
     "output_type": "stream",
     "text": [
      "[CLEAR] clear existing positions 2024-02-23T00:19:37.118125\n"
     ]
    },
    {
     "name": "stderr",
     "output_type": "stream",
     "text": [
      "\u001b[32m2024-02-23 00:19:37.738\u001b[0m | \u001b[1mINFO    \u001b[0m | \u001b[36maevo\u001b[0m:\u001b[36msign_order\u001b[0m:\u001b[36m517\u001b[0m - \u001b[1m{'name': 'Aevo Mainnet', 'version': '1', 'chainId': '1'}\u001b[0m\n",
      "\u001b[32m2024-02-23 00:19:43.759\u001b[0m | \u001b[1mINFO    \u001b[0m | \u001b[36maevo\u001b[0m:\u001b[36msign_order\u001b[0m:\u001b[36m517\u001b[0m - \u001b[1m{'name': 'Aevo Mainnet', 'version': '1', 'chainId': '1'}\u001b[0m\n"
     ]
    },
    {
     "name": "stdout",
     "output_type": "stream",
     "text": [
      "[OREDER] epoch 1 time 2024-02-23T00:19:43.759171\n"
     ]
    },
    {
     "name": "stderr",
     "output_type": "stream",
     "text": [
      "\u001b[32m2024-02-23 00:19:44.458\u001b[0m | \u001b[1mINFO    \u001b[0m | \u001b[36maevo\u001b[0m:\u001b[36msign_order\u001b[0m:\u001b[36m517\u001b[0m - \u001b[1m{'name': 'Aevo Mainnet', 'version': '1', 'chainId': '1'}\u001b[0m\n",
      "\u001b[32m2024-02-23 00:19:44.467\u001b[0m | \u001b[1mINFO    \u001b[0m | \u001b[36maevo\u001b[0m:\u001b[36mrest_create_order\u001b[0m:\u001b[36m196\u001b[0m - \u001b[1m{'maker': '0x00000038383f81B2C6153C37053Bd6c3201f42b4', 'is_buy': True, 'instrument': 1, 'limit_price': '2977470000', 'amount': '30000', 'salt': '9326159238', 'signature': '0x2fb55b330af2b1cfa1accb8b2ff50d570ca0e9c2e95b52481b54b162d22a8d0c29bd04e2c183b483ba26fd72ddb9cc18b2954836e349f28c059ab8425822b9f91b', 'post_only': True, 'reduce_only': False, 'close_position': False, 'timestamp': 1708618784}\u001b[0m\n"
     ]
    },
    {
     "name": "stdout",
     "output_type": "stream",
     "text": [
      "opentime 2024-02-23T00:19:44.864960 checking all position filled\n",
      "2024-02-23T00:19:45.182086 position not filled\n",
      "[CLEAR] clear existing positions 2024-02-23T00:19:57.413318\n"
     ]
    },
    {
     "name": "stderr",
     "output_type": "stream",
     "text": [
      "\u001b[32m2024-02-23 00:19:57.723\u001b[0m | \u001b[1mINFO    \u001b[0m | \u001b[36maevo\u001b[0m:\u001b[36msign_order\u001b[0m:\u001b[36m517\u001b[0m - \u001b[1m{'name': 'Aevo Mainnet', 'version': '1', 'chainId': '1'}\u001b[0m\n"
     ]
    },
    {
     "name": "stdout",
     "output_type": "stream",
     "text": [
      "[OREDER] epoch 2 time 2024-02-23T00:19:57.723410\n"
     ]
    },
    {
     "name": "stderr",
     "output_type": "stream",
     "text": [
      "\u001b[32m2024-02-23 00:19:58.452\u001b[0m | \u001b[1mINFO    \u001b[0m | \u001b[36maevo\u001b[0m:\u001b[36msign_order\u001b[0m:\u001b[36m517\u001b[0m - \u001b[1m{'name': 'Aevo Mainnet', 'version': '1', 'chainId': '1'}\u001b[0m\n",
      "\u001b[32m2024-02-23 00:19:58.463\u001b[0m | \u001b[1mINFO    \u001b[0m | \u001b[36maevo\u001b[0m:\u001b[36mrest_create_order\u001b[0m:\u001b[36m196\u001b[0m - \u001b[1m{'maker': '0x00000038383f81B2C6153C37053Bd6c3201f42b4', 'is_buy': True, 'instrument': 1, 'limit_price': '2975530000', 'amount': '30000', 'salt': '1238022129', 'signature': '0x47a0931e1328b4eea0ad795103446822b919adb0f6f53bf8fa36306ebe7cb39e08b7032acf0e6113ac8ea0992f37e0ce622c3b906c30167f392a4db4a7c357db1c', 'post_only': True, 'reduce_only': False, 'close_position': False, 'timestamp': 1708618798}\u001b[0m\n"
     ]
    },
    {
     "name": "stdout",
     "output_type": "stream",
     "text": [
      "opentime 2024-02-23T00:19:58.794159 checking all position filled\n",
      "2024-02-23T00:19:59.106410 position not filled\n",
      "2024-02-23T00:20:09.443925 position not filled\n",
      "2024-02-23T00:20:19.761459 position not filled\n",
      "[CLEAR] clear existing positions 2024-02-23T00:20:31.983230\n"
     ]
    },
    {
     "name": "stderr",
     "output_type": "stream",
     "text": [
      "\u001b[32m2024-02-23 00:20:32.300\u001b[0m | \u001b[1mINFO    \u001b[0m | \u001b[36maevo\u001b[0m:\u001b[36msign_order\u001b[0m:\u001b[36m517\u001b[0m - \u001b[1m{'name': 'Aevo Mainnet', 'version': '1', 'chainId': '1'}\u001b[0m\n"
     ]
    },
    {
     "name": "stdout",
     "output_type": "stream",
     "text": [
      "[OREDER] epoch 3 time 2024-02-23T00:20:32.300345\n"
     ]
    },
    {
     "name": "stderr",
     "output_type": "stream",
     "text": [
      "\u001b[32m2024-02-23 00:20:33.051\u001b[0m | \u001b[1mINFO    \u001b[0m | \u001b[36maevo\u001b[0m:\u001b[36msign_order\u001b[0m:\u001b[36m517\u001b[0m - \u001b[1m{'name': 'Aevo Mainnet', 'version': '1', 'chainId': '1'}\u001b[0m\n",
      "\u001b[32m2024-02-23 00:20:33.062\u001b[0m | \u001b[1mINFO    \u001b[0m | \u001b[36maevo\u001b[0m:\u001b[36mrest_create_order\u001b[0m:\u001b[36m196\u001b[0m - \u001b[1m{'maker': '0x00000038383f81B2C6153C37053Bd6c3201f42b4', 'is_buy': True, 'instrument': 1, 'limit_price': '2974800000', 'amount': '30000', 'salt': '2291358220', 'signature': '0x07f13c4134d7c73133e8c83b343245ba18967944124e99d9250754bd17aeab832c4cceec170e4588c5585ceb5892ed0988b47921b7875ad396129706bae9a5cf1b', 'post_only': True, 'reduce_only': False, 'close_position': False, 'timestamp': 1708618833}\u001b[0m\n"
     ]
    },
    {
     "name": "stdout",
     "output_type": "stream",
     "text": [
      "opentime 2024-02-23T00:20:33.657777 checking all position filled\n",
      "2024-02-23T00:20:33.969077 position not filled\n",
      "[CLEAR] clear existing positions 2024-02-23T00:20:46.171102\n"
     ]
    },
    {
     "name": "stderr",
     "output_type": "stream",
     "text": [
      "\u001b[32m2024-02-23 00:20:46.519\u001b[0m | \u001b[1mINFO    \u001b[0m | \u001b[36maevo\u001b[0m:\u001b[36msign_order\u001b[0m:\u001b[36m517\u001b[0m - \u001b[1m{'name': 'Aevo Mainnet', 'version': '1', 'chainId': '1'}\u001b[0m\n"
     ]
    },
    {
     "name": "stdout",
     "output_type": "stream",
     "text": [
      "[OREDER] epoch 4 time 2024-02-23T00:20:46.519474\n"
     ]
    },
    {
     "name": "stderr",
     "output_type": "stream",
     "text": [
      "\u001b[32m2024-02-23 00:20:47.233\u001b[0m | \u001b[1mINFO    \u001b[0m | \u001b[36maevo\u001b[0m:\u001b[36msign_order\u001b[0m:\u001b[36m517\u001b[0m - \u001b[1m{'name': 'Aevo Mainnet', 'version': '1', 'chainId': '1'}\u001b[0m\n",
      "\u001b[32m2024-02-23 00:20:47.246\u001b[0m | \u001b[1mINFO    \u001b[0m | \u001b[36maevo\u001b[0m:\u001b[36mrest_create_order\u001b[0m:\u001b[36m196\u001b[0m - \u001b[1m{'maker': '0x00000038383f81B2C6153C37053Bd6c3201f42b4', 'is_buy': True, 'instrument': 1, 'limit_price': '2972890000', 'amount': '30000', 'salt': '1565670093', 'signature': '0x97447124414298fc235d9181766e499f57cb63760724a8d1dc62668cf1b38f0017921dc3eef46118a35f2715f6a8f6a92061236f5f7c420cb2e844e5c591a1491b', 'post_only': True, 'reduce_only': False, 'close_position': False, 'timestamp': 1708618847}\u001b[0m\n"
     ]
    },
    {
     "name": "stdout",
     "output_type": "stream",
     "text": [
      "opentime 2024-02-23T00:20:47.591591 checking all position filled\n",
      "2024-02-23T00:20:47.911711 position not filled\n",
      "[CLEAR] clear existing positions 2024-02-23T00:21:00.136233\n"
     ]
    },
    {
     "name": "stderr",
     "output_type": "stream",
     "text": [
      "\u001b[32m2024-02-23 00:21:00.451\u001b[0m | \u001b[1mINFO    \u001b[0m | \u001b[36maevo\u001b[0m:\u001b[36msign_order\u001b[0m:\u001b[36m517\u001b[0m - \u001b[1m{'name': 'Aevo Mainnet', 'version': '1', 'chainId': '1'}\u001b[0m\n"
     ]
    },
    {
     "name": "stdout",
     "output_type": "stream",
     "text": [
      "[OREDER] epoch 5 time 2024-02-23T00:21:00.451687\n"
     ]
    },
    {
     "name": "stderr",
     "output_type": "stream",
     "text": [
      "\u001b[32m2024-02-23 00:21:01.191\u001b[0m | \u001b[1mINFO    \u001b[0m | \u001b[36maevo\u001b[0m:\u001b[36msign_order\u001b[0m:\u001b[36m517\u001b[0m - \u001b[1m{'name': 'Aevo Mainnet', 'version': '1', 'chainId': '1'}\u001b[0m\n",
      "\u001b[32m2024-02-23 00:21:01.201\u001b[0m | \u001b[1mINFO    \u001b[0m | \u001b[36maevo\u001b[0m:\u001b[36mrest_create_order\u001b[0m:\u001b[36m196\u001b[0m - \u001b[1m{'maker': '0x00000038383f81B2C6153C37053Bd6c3201f42b4', 'is_buy': True, 'instrument': 1, 'limit_price': '2971550000', 'amount': '30000', 'salt': '7343800933', 'signature': '0x63a1a8dc65526b3b0c918950a6a9066b4045a3a86e183f791f4945a2318812ab5da245d80645b3e944b0beeb51b313b54a4f42ccb3caf327f7c9fcac162039341c', 'post_only': True, 'reduce_only': False, 'close_position': False, 'timestamp': 1708618861}\u001b[0m\n"
     ]
    },
    {
     "name": "stdout",
     "output_type": "stream",
     "text": [
      "opentime 2024-02-23T00:21:01.524003 checking all position filled\n",
      "2024-02-23T00:21:01.838497 position not filled\n",
      "[CLEAR] clear existing positions 2024-02-23T00:21:14.111570\n"
     ]
    },
    {
     "name": "stderr",
     "output_type": "stream",
     "text": [
      "\u001b[32m2024-02-23 00:21:14.426\u001b[0m | \u001b[1mINFO    \u001b[0m | \u001b[36maevo\u001b[0m:\u001b[36msign_order\u001b[0m:\u001b[36m517\u001b[0m - \u001b[1m{'name': 'Aevo Mainnet', 'version': '1', 'chainId': '1'}\u001b[0m\n"
     ]
    },
    {
     "name": "stdout",
     "output_type": "stream",
     "text": [
      "[OREDER] epoch 6 time 2024-02-23T00:21:14.426380\n"
     ]
    },
    {
     "name": "stderr",
     "output_type": "stream",
     "text": [
      "\u001b[32m2024-02-23 00:21:15.082\u001b[0m | \u001b[1mINFO    \u001b[0m | \u001b[36maevo\u001b[0m:\u001b[36msign_order\u001b[0m:\u001b[36m517\u001b[0m - \u001b[1m{'name': 'Aevo Mainnet', 'version': '1', 'chainId': '1'}\u001b[0m\n",
      "\u001b[32m2024-02-23 00:21:15.092\u001b[0m | \u001b[1mINFO    \u001b[0m | \u001b[36maevo\u001b[0m:\u001b[36mrest_create_order\u001b[0m:\u001b[36m196\u001b[0m - \u001b[1m{'maker': '0x00000038383f81B2C6153C37053Bd6c3201f42b4', 'is_buy': True, 'instrument': 1, 'limit_price': '2969020000', 'amount': '30000', 'salt': '9344540612', 'signature': '0xb8e041aba329d004528311787e8772e4595f77b12dd4b75df161b84b6094395a522625a3fb18268a353ee8c4830bae558930da1f73ab9e8efb13dccd79a256f01b', 'post_only': True, 'reduce_only': False, 'close_position': False, 'timestamp': 1708618875}\u001b[0m\n"
     ]
    },
    {
     "name": "stdout",
     "output_type": "stream",
     "text": [
      "opentime 2024-02-23T00:21:15.415737 checking all position filled\n",
      "2024-02-23T00:21:15.726828 position not filled\n",
      "2024-02-23T00:21:26.075681 position not filled\n",
      "2024-02-23T00:21:36.396932 position not filled\n",
      "2024-02-23T00:21:46.714913 position not filled\n",
      "[CLEAR] clear existing positions 2024-02-23T00:21:58.920103\n"
     ]
    },
    {
     "name": "stderr",
     "output_type": "stream",
     "text": [
      "\u001b[32m2024-02-23 00:21:59.233\u001b[0m | \u001b[1mINFO    \u001b[0m | \u001b[36maevo\u001b[0m:\u001b[36msign_order\u001b[0m:\u001b[36m517\u001b[0m - \u001b[1m{'name': 'Aevo Mainnet', 'version': '1', 'chainId': '1'}\u001b[0m\n"
     ]
    },
    {
     "name": "stdout",
     "output_type": "stream",
     "text": [
      "[OREDER] epoch 7 time 2024-02-23T00:21:59.233987\n"
     ]
    },
    {
     "name": "stderr",
     "output_type": "stream",
     "text": [
      "\u001b[32m2024-02-23 00:21:59.943\u001b[0m | \u001b[1mINFO    \u001b[0m | \u001b[36maevo\u001b[0m:\u001b[36msign_order\u001b[0m:\u001b[36m517\u001b[0m - \u001b[1m{'name': 'Aevo Mainnet', 'version': '1', 'chainId': '1'}\u001b[0m\n",
      "\u001b[32m2024-02-23 00:21:59.952\u001b[0m | \u001b[1mINFO    \u001b[0m | \u001b[36maevo\u001b[0m:\u001b[36mrest_create_order\u001b[0m:\u001b[36m196\u001b[0m - \u001b[1m{'maker': '0x00000038383f81B2C6153C37053Bd6c3201f42b4', 'is_buy': True, 'instrument': 1, 'limit_price': '2967590000', 'amount': '30000', 'salt': '7236964880', 'signature': '0x84d1ca84b0b48dbe21491a81e7a02a9c5e18f0f72dae42b9dc05609d20a8904b56dbb803e53ba2993f92c8ba8acdb9d98e34612fc8259db0ddfdebbb7f841adc1c', 'post_only': True, 'reduce_only': False, 'close_position': False, 'timestamp': 1708618919}\u001b[0m\n"
     ]
    },
    {
     "name": "stdout",
     "output_type": "stream",
     "text": [
      "opentime 2024-02-23T00:22:00.277443 checking all position filled\n",
      "2024-02-23T00:22:00.655614 position not filled\n",
      "[CLEAR] clear existing positions 2024-02-23T00:22:12.893851\n"
     ]
    },
    {
     "name": "stderr",
     "output_type": "stream",
     "text": [
      "\u001b[32m2024-02-23 00:22:13.208\u001b[0m | \u001b[1mINFO    \u001b[0m | \u001b[36maevo\u001b[0m:\u001b[36msign_order\u001b[0m:\u001b[36m517\u001b[0m - \u001b[1m{'name': 'Aevo Mainnet', 'version': '1', 'chainId': '1'}\u001b[0m\n"
     ]
    },
    {
     "name": "stdout",
     "output_type": "stream",
     "text": [
      "[OREDER] epoch 8 time 2024-02-23T00:22:13.208591\n"
     ]
    },
    {
     "name": "stderr",
     "output_type": "stream",
     "text": [
      "\u001b[32m2024-02-23 00:22:13.963\u001b[0m | \u001b[1mINFO    \u001b[0m | \u001b[36maevo\u001b[0m:\u001b[36msign_order\u001b[0m:\u001b[36m517\u001b[0m - \u001b[1m{'name': 'Aevo Mainnet', 'version': '1', 'chainId': '1'}\u001b[0m\n",
      "\u001b[32m2024-02-23 00:22:13.973\u001b[0m | \u001b[1mINFO    \u001b[0m | \u001b[36maevo\u001b[0m:\u001b[36mrest_create_order\u001b[0m:\u001b[36m196\u001b[0m - \u001b[1m{'maker': '0x00000038383f81B2C6153C37053Bd6c3201f42b4', 'is_buy': True, 'instrument': 1, 'limit_price': '2966000000', 'amount': '30000', 'salt': '2787664110', 'signature': '0x0c09937f2c0f012d686d4447d05a115969ec0087c7113924557466032d979e5b6b39dd81cdf815540430624f417778807d817f0ea27e0ee5004bced24458e4d51c', 'post_only': True, 'reduce_only': False, 'close_position': False, 'timestamp': 1708618933}\u001b[0m\n"
     ]
    },
    {
     "name": "stdout",
     "output_type": "stream",
     "text": [
      "opentime 2024-02-23T00:22:14.342059 checking all position filled\n",
      "2024-02-23T00:22:14.654782 position not filled\n",
      "2024-02-23T00:22:25.158028 position not filled\n",
      "[CLEAR] clear existing positions 2024-02-23T00:22:37.374170\n"
     ]
    },
    {
     "name": "stderr",
     "output_type": "stream",
     "text": [
      "\u001b[32m2024-02-23 00:22:37.691\u001b[0m | \u001b[1mINFO    \u001b[0m | \u001b[36maevo\u001b[0m:\u001b[36msign_order\u001b[0m:\u001b[36m517\u001b[0m - \u001b[1m{'name': 'Aevo Mainnet', 'version': '1', 'chainId': '1'}\u001b[0m\n"
     ]
    },
    {
     "name": "stdout",
     "output_type": "stream",
     "text": [
      "[OREDER] epoch 9 time 2024-02-23T00:22:37.691239\n"
     ]
    },
    {
     "name": "stderr",
     "output_type": "stream",
     "text": [
      "\u001b[32m2024-02-23 00:22:38.462\u001b[0m | \u001b[1mINFO    \u001b[0m | \u001b[36maevo\u001b[0m:\u001b[36msign_order\u001b[0m:\u001b[36m517\u001b[0m - \u001b[1m{'name': 'Aevo Mainnet', 'version': '1', 'chainId': '1'}\u001b[0m\n",
      "\u001b[32m2024-02-23 00:22:38.473\u001b[0m | \u001b[1mINFO    \u001b[0m | \u001b[36maevo\u001b[0m:\u001b[36mrest_create_order\u001b[0m:\u001b[36m196\u001b[0m - \u001b[1m{'maker': '0x00000038383f81B2C6153C37053Bd6c3201f42b4', 'is_buy': True, 'instrument': 1, 'limit_price': '2963550000', 'amount': '30000', 'salt': '8667178869', 'signature': '0x8a58a2dba3993576bda593f880405f1d60b877abd2a1956fea112348c20f537f01458dec7650b1b81ee71240daf8940c65c1a1ab35bdf67fb8b4fa581fea5b061c', 'post_only': True, 'reduce_only': False, 'close_position': False, 'timestamp': 1708618958}\u001b[0m\n"
     ]
    },
    {
     "name": "stdout",
     "output_type": "stream",
     "text": [
      "opentime 2024-02-23T00:22:38.795869 checking all position filled\n",
      "2024-02-23T00:22:39.106869 position not filled\n",
      "[CLEAR] clear existing positions 2024-02-23T00:22:51.345403\n"
     ]
    },
    {
     "name": "stderr",
     "output_type": "stream",
     "text": [
      "\u001b[32m2024-02-23 00:22:51.660\u001b[0m | \u001b[1mINFO    \u001b[0m | \u001b[36maevo\u001b[0m:\u001b[36msign_order\u001b[0m:\u001b[36m517\u001b[0m - \u001b[1m{'name': 'Aevo Mainnet', 'version': '1', 'chainId': '1'}\u001b[0m\n"
     ]
    },
    {
     "name": "stdout",
     "output_type": "stream",
     "text": [
      "[OREDER] epoch 10 time 2024-02-23T00:22:51.660891\n"
     ]
    },
    {
     "name": "stderr",
     "output_type": "stream",
     "text": [
      "\u001b[32m2024-02-23 00:22:52.376\u001b[0m | \u001b[1mINFO    \u001b[0m | \u001b[36maevo\u001b[0m:\u001b[36msign_order\u001b[0m:\u001b[36m517\u001b[0m - \u001b[1m{'name': 'Aevo Mainnet', 'version': '1', 'chainId': '1'}\u001b[0m\n",
      "\u001b[32m2024-02-23 00:22:52.386\u001b[0m | \u001b[1mINFO    \u001b[0m | \u001b[36maevo\u001b[0m:\u001b[36mrest_create_order\u001b[0m:\u001b[36m196\u001b[0m - \u001b[1m{'maker': '0x00000038383f81B2C6153C37053Bd6c3201f42b4', 'is_buy': True, 'instrument': 1, 'limit_price': '2963910000', 'amount': '30000', 'salt': '9665782141', 'signature': '0xd787a7f4d022af0b7fbbe98eb378683c73a0e78b0620cfe6f3259ea1d0f62c7827f586b8455108b4d78e3aa31da3ea785bc4fb29991176208cdf07adc863f4981b', 'post_only': True, 'reduce_only': False, 'close_position': False, 'timestamp': 1708618972}\u001b[0m\n"
     ]
    },
    {
     "name": "stdout",
     "output_type": "stream",
     "text": [
      "opentime 2024-02-23T00:22:52.707157 checking all position filled\n",
      "2024-02-23T00:22:53.022563 position not filled\n",
      "[CLEAR] clear existing positions 2024-02-23T00:23:05.263685\n"
     ]
    },
    {
     "name": "stderr",
     "output_type": "stream",
     "text": [
      "\u001b[32m2024-02-23 00:23:05.577\u001b[0m | \u001b[1mINFO    \u001b[0m | \u001b[36maevo\u001b[0m:\u001b[36msign_order\u001b[0m:\u001b[36m517\u001b[0m - \u001b[1m{'name': 'Aevo Mainnet', 'version': '1', 'chainId': '1'}\u001b[0m\n"
     ]
    },
    {
     "name": "stdout",
     "output_type": "stream",
     "text": [
      "[OREDER] epoch 11 time 2024-02-23T00:23:05.577852\n"
     ]
    },
    {
     "name": "stderr",
     "output_type": "stream",
     "text": [
      "\u001b[32m2024-02-23 00:23:06.303\u001b[0m | \u001b[1mINFO    \u001b[0m | \u001b[36maevo\u001b[0m:\u001b[36msign_order\u001b[0m:\u001b[36m517\u001b[0m - \u001b[1m{'name': 'Aevo Mainnet', 'version': '1', 'chainId': '1'}\u001b[0m\n",
      "\u001b[32m2024-02-23 00:23:06.313\u001b[0m | \u001b[1mINFO    \u001b[0m | \u001b[36maevo\u001b[0m:\u001b[36mrest_create_order\u001b[0m:\u001b[36m196\u001b[0m - \u001b[1m{'maker': '0x00000038383f81B2C6153C37053Bd6c3201f42b4', 'is_buy': True, 'instrument': 1, 'limit_price': '2962990000', 'amount': '30000', 'salt': '6200828042', 'signature': '0x8e5ecea39d7b867c0a52aa40e56a257af08d16874f393070a324c4cd6e5c9c2d3b954ff8be16341b0cf0c68798447b8f3ca78f0d960b8967ea013320599bdbfb1c', 'post_only': True, 'reduce_only': False, 'close_position': False, 'timestamp': 1708618986}\u001b[0m\n"
     ]
    },
    {
     "name": "stdout",
     "output_type": "stream",
     "text": [
      "opentime 2024-02-23T00:23:06.643016 checking all position filled\n",
      "2024-02-23T00:23:06.956424 position not filled\n",
      "2024-02-23T00:23:17.304538 position not filled\n",
      "2024-02-23T00:23:27.630228 position not filled\n",
      "2024-02-23T00:23:37.957407 position not filled\n",
      "2024-02-23T00:23:48.274876 position not filled\n",
      "2024-02-23T00:23:58.593555 position not filled\n",
      "2024-02-23T00:24:08.925871 position not filled\n",
      "2024-02-23T00:24:19.262360 position not filled\n",
      "2024-02-23T00:24:29.593339 position not filled\n",
      "2024-02-23T00:24:39.921781 position not filled\n",
      "2024-02-23T00:24:50.238143 position not filled\n",
      "2024-02-23T00:25:00.567730 position not filled\n",
      "2024-02-23T00:25:10.903062 position not filled\n",
      "2024-02-23T00:25:21.246118 position not filled\n",
      "2024-02-23T00:25:31.558690 position not filled\n",
      "2024-02-23T00:25:41.878424 position not filled\n",
      "2024-02-23T00:25:52.196675 position not filled\n",
      "2024-02-23T00:26:02.527920 position not filled\n",
      "2024-02-23T00:26:12.871225 position not filled\n",
      "2024-02-23T00:26:23.214863 position not filled\n",
      "2024-02-23T00:26:33.533014 position not filled\n",
      "2024-02-23T00:26:43.855629 position not filled\n",
      "2024-02-23T00:26:54.163785 position not filled\n",
      "2024-02-23T00:27:04.472887 position not filled\n",
      "2024-02-23T00:27:14.795428 position not filled\n",
      "2024-02-23T00:27:25.138582 position not filled\n",
      "2024-02-23T00:27:35.467318 position not filled\n",
      "2024-02-23T00:27:45.792629 position not filled\n",
      "2024-02-23T00:27:56.145609 position not filled\n",
      "[CLEAR] clear existing positions 2024-02-23T00:28:08.395173\n"
     ]
    },
    {
     "name": "stderr",
     "output_type": "stream",
     "text": [
      "\u001b[32m2024-02-23 00:28:08.707\u001b[0m | \u001b[1mINFO    \u001b[0m | \u001b[36maevo\u001b[0m:\u001b[36msign_order\u001b[0m:\u001b[36m517\u001b[0m - \u001b[1m{'name': 'Aevo Mainnet', 'version': '1', 'chainId': '1'}\u001b[0m\n"
     ]
    },
    {
     "name": "stdout",
     "output_type": "stream",
     "text": [
      "[OREDER] epoch 12 time 2024-02-23T00:28:08.707747\n"
     ]
    },
    {
     "name": "stderr",
     "output_type": "stream",
     "text": [
      "\u001b[32m2024-02-23 00:28:09.425\u001b[0m | \u001b[1mINFO    \u001b[0m | \u001b[36maevo\u001b[0m:\u001b[36msign_order\u001b[0m:\u001b[36m517\u001b[0m - \u001b[1m{'name': 'Aevo Mainnet', 'version': '1', 'chainId': '1'}\u001b[0m\n",
      "\u001b[32m2024-02-23 00:28:09.435\u001b[0m | \u001b[1mINFO    \u001b[0m | \u001b[36maevo\u001b[0m:\u001b[36mrest_create_order\u001b[0m:\u001b[36m196\u001b[0m - \u001b[1m{'maker': '0x00000038383f81B2C6153C37053Bd6c3201f42b4', 'is_buy': True, 'instrument': 1, 'limit_price': '2962880000', 'amount': '30000', 'salt': '9501867489', 'signature': '0x1b8ced08c475864dbc98aa6263543860033881aa9fc594f0ba663e4934c7b4317afa372f9f7dea2c80ec2e4015cb651edbc308bd7a6ab9283a06d188be52bf9f1c', 'post_only': True, 'reduce_only': False, 'close_position': False, 'timestamp': 1708619289}\u001b[0m\n"
     ]
    },
    {
     "name": "stdout",
     "output_type": "stream",
     "text": [
      "opentime 2024-02-23T00:28:09.750988 checking all position filled\n",
      "2024-02-23T00:28:10.061938 position not filled\n",
      "2024-02-23T00:28:20.410621 position not filled\n",
      "2024-02-23T00:28:30.719185 position not filled\n",
      "2024-02-23T00:28:41.036122 position not filled\n",
      "2024-02-23T00:28:51.355636 position not filled\n",
      "2024-02-23T00:29:01.759006 position not filled\n",
      "2024-02-23T00:29:12.065893 position not filled\n",
      "2024-02-23T00:29:22.375998 position not filled\n",
      "2024-02-23T00:29:32.690332 position not filled\n",
      "2024-02-23T00:29:43.027964 position not filled\n",
      "2024-02-23T00:29:53.345615 position not filled\n",
      "2024-02-23T00:30:03.701638 position not filled\n",
      "2024-02-23T00:30:14.018793 position not filled\n",
      "2024-02-23T00:30:24.337381 position not filled\n",
      "2024-02-23T00:30:34.656815 position not filled\n",
      "2024-02-23T00:30:44.981128 position not filled\n",
      "2024-02-23T00:30:55.297872 position not filled\n",
      "2024-02-23T00:31:05.641752 position not filled\n",
      "2024-02-23T00:31:15.956641 position not filled\n",
      "2024-02-23T00:31:26.269723 position not filled\n",
      "2024-02-23T00:31:36.581996 position not filled\n",
      "2024-02-23T00:31:46.898954 position not filled\n",
      "2024-02-23T00:31:57.217598 position not filled\n",
      "2024-02-23T00:32:07.593967 position not filled\n",
      "2024-02-23T00:32:17.907822 position not filled\n",
      "2024-02-23T00:32:28.221065 position not filled\n",
      "2024-02-23T00:32:38.543093 position not filled\n",
      "2024-02-23T00:32:48.856523 position not filled\n",
      "2024-02-23T00:32:59.167793 position not filled\n",
      "2024-02-23T00:33:09.542832 position not filled\n",
      "2024-02-23T00:33:19.869346 position not filled\n",
      "2024-02-23T00:33:30.185840 position not filled\n",
      "2024-02-23T00:33:40.505616 position not filled\n",
      "2024-02-23T00:33:50.826521 position not filled\n",
      "2024-02-23T00:34:01.139621 position not filled\n",
      "2024-02-23T00:34:11.482011 position not filled\n",
      "2024-02-23T00:34:21.795087 position not filled\n",
      "2024-02-23T00:34:32.116239 position not filled\n",
      "2024-02-23T00:34:42.425344 position not filled\n",
      "2024-02-23T00:34:52.734317 position not filled\n"
     ]
    }
   ],
   "source": [
    "\n",
    "\n",
    "def get_price_for_quantity(symbol,direction, quantity):\n",
    "    orderbook = aevo.get_orderbook(symbol)[direction]\n",
    "    \n",
    "    for p,a in orderbook:\n",
    "        quantity -= float(a)\n",
    "        if quantity <= 0:\n",
    "            return p\n",
    "    return orderbook[20][0]\n",
    "\n",
    "def clear_existing_positions(symbol_id):\n",
    "    \n",
    "    aevo.rest_cancel_all_orders()\n",
    "    print(f\"[CLEAR] clear existing positions {datetime.now().isoformat()}\")\n",
    "    while len(aevo.rest_get_data(\"positions\")['positions'])>0:\n",
    "        pos = aevo.rest_get_data(\"positions\")['positions'][0]\n",
    "        side = pos['side']\n",
    "        pos_amount = float(pos['amount'])\n",
    "\n",
    "        if side == 'buy':\n",
    "            aevo.rest_create_market_order(symbol_id,False,pos_amount)\n",
    "        else:\n",
    "            aevo.rest_create_market_order(symbol_id,True,pos_amount)\n",
    "        time.sleep(5)\n",
    "        aevo.rest_cancel_all_orders()\n",
    "\n",
    "c = 0\n",
    "def run_bot(symbol,symbol_id,is_trading_up,amount,amount_for_price_discrepancy):\n",
    "    \n",
    "    \n",
    "    global c\n",
    "    c+=1\n",
    "    clear_existing_positions(symbol_id)\n",
    "\n",
    "    \n",
    "    print(f\"[OREDER] epoch {c} time {datetime.now().isoformat()}\")\n",
    "\n",
    "    direction = 'asks' if is_trading_up else 'bids'\n",
    "    order = aevo.rest_create_market_order(symbol_id,is_trading_up,amount)\n",
    "    if 'error' in order:\n",
    "        raise Exception(order)\n",
    "    order = aevo.rest_create_order(symbol_id,not is_trading_up, float(get_price_for_quantity(symbol,direction,amount_for_price_discrepancy)),amount) \n",
    "    if 'error' in order:\n",
    "        raise Exception(order)\n",
    "    \n",
    "    open_time = datetime.now()\n",
    "\n",
    "    print(f\"opentime {open_time.isoformat()} checking all position filled\")\n",
    "\n",
    "    while len(aevo.rest_get_data(\"positions\")['positions'])>0 or len(aevo.rest_get_open_orders()) > 0 :\n",
    "        print(f\"{datetime.now().isoformat()} position not filled\")\n",
    "        if (datetime.now() - open_time).seconds > 60*20:\n",
    "            print(f\"[TIMEOUT] timeout {datetime.now().isoformat()}\")\n",
    "            \n",
    "            clear_existing_positions(symbol_id)\n",
    "            break\n",
    "        time.sleep(10)\n",
    "\n",
    "    \n",
    "\n",
    "while True:\n",
    "    try:\n",
    "        run_bot('ETH-PERP',1,get_current_trend('ETH-USDT', '15m'),0.03,30)\n",
    "    except Exception as e:\n",
    "        print(f\"ERROR {e}\")\n",
    "        clear_existing_positions(1)\n",
    "        break\n",
    "    time.sleep(1)"
   ]
  },
  {
   "cell_type": "code",
   "execution_count": null,
   "metadata": {},
   "outputs": [],
   "source": [
    "# import schedule\n",
    "# def clear_all_positions(symbol_id):\n",
    "#     print(f\"[CLEAR] clear existing positions {datetime.now().isoformat()}\")\n",
    "#     aevo.rest_cancel_all_orders()\n",
    "#     while len(aevo.rest_get_data(\"positions\")['positions'])>0:\n",
    "#         pos = aevo.rest_get_data(\"positions\")['positions'][0]\n",
    "#         side = pos['side']\n",
    "#         pos_amount = float(pos['amount'])\n",
    "\n",
    "#         if side == 'buy':\n",
    "#             aevo.rest_create_market_order(symbol_id,False,pos_amount)\n",
    "#         else:\n",
    "#             aevo.rest_create_market_order(symbol_id,True,pos_amount)\n",
    "#         time.sleep(5)\n",
    "#         aevo.rest_cancel_all_orders()\n",
    "\n",
    "# def check_buy_sell_signals(df):\n",
    "#     global in_position\n",
    "\n",
    "#     print(\"checking for buy and sell signals\")\n",
    "#     # print(df.tail(5))\n",
    "#     last_row_index = len(df.index) - 1\n",
    "#     previous_row_index = last_row_index - 1\n",
    "\n",
    "#     if not df['in_uptrend'][previous_row_index] and df['in_uptrend'][last_row_index]:\n",
    "#         print(\"changed to uptrend, buy\")\n",
    "#         if not in_position:\n",
    "#             clear_all_positions(5197)\n",
    "#             print(\"[BUY ORDER]\")\n",
    "#             aevo.rest_create_market_order(5197,True,10)\n",
    "            \n",
    "#             in_position = True\n",
    "#         else:\n",
    "#             print(\"already in position, nothing to do\")\n",
    "    \n",
    "#     if df['in_uptrend'][previous_row_index] and not df['in_uptrend'][last_row_index]:\n",
    "#         if in_position:\n",
    "#             print(\"changed to downtrend, sell\")\n",
    "#             clear_all_positions(5197)\n",
    "#             print(\"[SELL ORDER]\\n\")\n",
    "#             aevo.rest_create_market_order(5197,False,10)\n",
    "#             in_position = False\n",
    "#         else:\n",
    "#             print(\"You aren't in position, nothing to sell\")\n",
    "\n",
    "# def run_bot():\n",
    "#     print(f\"Fetching new bars for {datetime.now().isoformat()}\")\n",
    "#     data = get_data('SOL-USDT', '4h')\n",
    "#     supertrend_data = supertrend(data)\n",
    "#     check_buy_sell_signals(supertrend_data)\n",
    "\n",
    "\n",
    "# schedule.every(10).seconds.do(run_bot)\n",
    "\n",
    "\n",
    "# while True:\n",
    "#     schedule.run_pending()\n",
    "#     time.sleep(1)\n"
   ]
  }
 ],
 "metadata": {
  "kernelspec": {
   "display_name": "base",
   "language": "python",
   "name": "python3"
  },
  "language_info": {
   "codemirror_mode": {
    "name": "ipython",
    "version": 3
   },
   "file_extension": ".py",
   "mimetype": "text/x-python",
   "name": "python",
   "nbconvert_exporter": "python",
   "pygments_lexer": "ipython3",
   "version": "3.10.9"
  }
 },
 "nbformat": 4,
 "nbformat_minor": 2
}
